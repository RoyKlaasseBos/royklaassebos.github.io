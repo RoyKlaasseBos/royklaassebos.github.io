{
 "cells": [
  {
   "cell_type": "markdown",
   "metadata": {},
   "source": [
    "# Data Science Self-Assessment - Solutions (Python)"
   ]
  },
  {
   "cell_type": "markdown",
   "metadata": {},
   "source": [
    "For the corresponding questions (by Galvanize) see my [Github page](https://github.com/RoyKlaasseBos/self-study-resources/blob/master/DSI-Self-Assessment.pdf).\n",
    "\n",
    "*__Disclaimer__: Although I double checked my answers, I cannot guarantee that they are correct. So if you spot any typos or bugs let me know!*"
   ]
  },
  {
   "cell_type": "markdown",
   "metadata": {},
   "source": [
    "## Spot the Differences"
   ]
  },
  {
   "cell_type": "markdown",
   "metadata": {},
   "source": [
    "### For Loops"
   ]
  },
  {
   "cell_type": "markdown",
   "metadata": {},
   "source": [
    "**Script 1**  \n",
    "The program will print the value of `total` for each iteration of the `for`-loop. Since total is reset to 0 for each iteration, the output will be:\n",
    "```python\n",
    "1\n",
    "2\n",
    "3\n",
    "```"
   ]
  },
  {
   "cell_type": "markdown",
   "metadata": {},
   "source": [
    "**Script 2**  \n",
    "After each iteration of the `for`-loop the current value of `total` is printed, which comes down to: \n",
    "```python\n",
    "1\n",
    "3\n",
    "6\n",
    "```"
   ]
  },
  {
   "cell_type": "markdown",
   "metadata": {},
   "source": [
    "**Script 3**  \n",
    "The difference with script 2 is that total is only printed once (after the `for`-loop). \n",
    "```python\n",
    "6\n",
    "```"
   ]
  },
  {
   "cell_type": "markdown",
   "metadata": {},
   "source": [
    "### For Loops"
   ]
  },
  {
   "cell_type": "markdown",
   "metadata": {},
   "source": [
    "**Script 1**  \n",
    "As you can see below, only `cat` is retured since the `return`-statement immediatetely breaks the `for`-loop."
   ]
  },
  {
   "cell_type": "code",
   "execution_count": 15,
   "metadata": {},
   "outputs": [
    {
     "name": "stdout",
     "output_type": "stream",
     "text": [
      "cat\n"
     ]
    }
   ],
   "source": [
    "# Script 1\n",
    "def my_function1(my_list):\n",
    "    output = []\n",
    "    for item in my_list:\n",
    "        output.append(item)\n",
    "        return item\n",
    "    \n",
    "print(my_function1(['cat', 'bad', 'dad']))"
   ]
  },
  {
   "cell_type": "markdown",
   "metadata": {},
   "source": [
    "**Script 2**  \n",
    "Here is the same problem as in script 1 (the `return`-statement is part of the `for`-loop) and thus the output will only be `cat`.\n",
    "```python\n",
    "'cat'\n",
    "```"
   ]
  },
  {
   "cell_type": "markdown",
   "metadata": {},
   "source": [
    "**Script 3**  \n",
    "This script returns the last item of `my_list` (`dad`) because that is the value of `item` once the `for`-loop finishes. \n",
    "```python\n",
    "'dad'\n",
    "```"
   ]
  },
  {
   "cell_type": "markdown",
   "metadata": {},
   "source": [
    "**Script 4**  \n",
    "Because the list `output` is reset to `[]` after each iteration of the `for`-loop `my_function4()` will return `dad` (an empty `output` list  appended with the last item of `my_list`).\n",
    "```python\n",
    "'dad'\n",
    "```"
   ]
  },
  {
   "cell_type": "markdown",
   "metadata": {},
   "source": [
    "**Script 5**  \n",
    "This time the list is not emptied after each iteration so that the return value will be a list `output` that contains all elements of `my_list`. Note that calling `my_function5()` twice will give exactly the same output as the `output` list is emptied again.\n",
    "```python\n",
    "['cat', 'bad', 'dad']\n",
    "['cat', 'bad', 'dad']\n",
    "```"
   ]
  },
  {
   "cell_type": "markdown",
   "metadata": {},
   "source": [
    "**Script 6**  \n",
    "Now `output` has become a global variable (list) which is not reset for each `my_function6()` function call. In other words, the elements of `my_list` for the second function call are appended to the existing values of `my_list`. \n",
    "```python\n",
    "['cat', 'bad', 'dad']\n",
    "['cat', 'bad', 'dad', 'cat', 'bad', 'dad']\n",
    "```"
   ]
  },
  {
   "cell_type": "markdown",
   "metadata": {},
   "source": [
    "### Make a function"
   ]
  },
  {
   "cell_type": "markdown",
   "metadata": {},
   "source": [
    "(1) We want a function that takes a list of numbers and returns that list where 10 was added to each number."
   ]
  },
  {
   "cell_type": "code",
   "execution_count": 14,
   "metadata": {},
   "outputs": [
    {
     "name": "stdout",
     "output_type": "stream",
     "text": [
      "[11, 12, 13]\n"
     ]
    }
   ],
   "source": [
    "# using a list-comprehension\n",
    "def list_add_10(list_num):\n",
    "    return [num + 10 for num in list_num]\n",
    "\n",
    "print(list_add_10([1,2,3]))"
   ]
  },
  {
   "cell_type": "code",
   "execution_count": 3,
   "metadata": {},
   "outputs": [
    {
     "data": {
      "text/plain": [
       "[11, 12, 13]"
      ]
     },
     "execution_count": 3,
     "metadata": {},
     "output_type": "execute_result"
    }
   ],
   "source": [
    "# alternatively \n",
    "def list_add_10(list_num):\n",
    "    output = []\n",
    "    for num in list_num:\n",
    "        output.append(num+10)\n",
    "    return output\n",
    "\n",
    "print(list_add_10([1,2,3]))"
   ]
  },
  {
   "cell_type": "markdown",
   "metadata": {},
   "source": [
    "(2) We want a function that takes in a list of strings and returns the list with the length of the words."
   ]
  },
  {
   "cell_type": "code",
   "execution_count": 4,
   "metadata": {},
   "outputs": [
    {
     "data": {
      "text/plain": [
       "[5, 3, 2, 3]"
      ]
     },
     "execution_count": 4,
     "metadata": {},
     "output_type": "execute_result"
    }
   ],
   "source": [
    "# using a list-comprehension\n",
    "def list_length_words(list_words):\n",
    "    return [len(word) for word in list_words]\n",
    "\n",
    "print(list_length_words(['great', 'job', 'so', 'far']))"
   ]
  },
  {
   "cell_type": "code",
   "execution_count": 5,
   "metadata": {},
   "outputs": [
    {
     "data": {
      "text/plain": [
       "[5, 3, 2, 3]"
      ]
     },
     "execution_count": 5,
     "metadata": {},
     "output_type": "execute_result"
    }
   ],
   "source": [
    "# alternatively \n",
    "def list_length_words(list_words):\n",
    "    output = []\n",
    "    for word in list_words:\n",
    "        output.append(len(word))\n",
    "    return output\n",
    "\n",
    "print(list_length_words(['great', 'job', 'so', 'far']))"
   ]
  },
  {
   "cell_type": "markdown",
   "metadata": {},
   "source": [
    "## More Advanced Python Challenges"
   ]
  },
  {
   "cell_type": "markdown",
   "metadata": {},
   "source": [
    "**Challenge 1**   \n",
    "Write a function that looks at the number of times the given letters appear in a document. The output should be a dictionary."
   ]
  },
  {
   "cell_type": "code",
   "execution_count": 13,
   "metadata": {},
   "outputs": [
    {
     "name": "stdout",
     "output_type": "stream",
     "text": [
      "{'l': 21, 'o': 29, 'r': 22, 'e': 37, 'm': 17, ' ': 68, 'i': 42, 'p': 11, 's': 18, 'u': 28, 'd': 18, 't': 32, 'a': 29, ',': 4, 'c': 16, 'n': 24, 'g': 3, 'b': 3, 'q': 5, '.': 4, 'v': 3, 'x': 3, 'h': 1, 'f': 3}\n"
     ]
    }
   ],
   "source": [
    "def read_file(file_name):\n",
    "    with open(file_name) as file_object:\n",
    "        return file_object.readlines()\n",
    "\n",
    "# dictionary comprehension\n",
    "def letter_counter(file_name, letters_to_count='aeiou'):\n",
    "    '''Returns the number of times specified letters appear in a file'''\n",
    "    text = read_file(file_name)\n",
    "    return {letter.lower(): text[0].count(letter) for letter in list(text[0])}\n",
    "                             \n",
    "print(letter_counter('lorem_ipsum.txt'))"
   ]
  },
  {
   "cell_type": "code",
   "execution_count": 12,
   "metadata": {},
   "outputs": [
    {
     "name": "stdout",
     "output_type": "stream",
     "text": [
      "{'l': 22, 'o': 29, 'r': 22, 'e': 8, 'm': 17, ' ': 68, 'i': 42, 'p': 11, 's': 18, 'u': 23, 'd': 8, 't': 32, 'a': 29, ',': 4, 'c': 16, 'n': 24, 'g': 3, 'b': 3, 'q': 5, '.': 4, 'v': 3, 'x': 3, 'h': 1, 'f': 3}\n"
     ]
    }
   ],
   "source": [
    "def read_file(file_name):\n",
    "    with open(file_name) as file_object:\n",
    "        return file_object.readlines()\n",
    "\n",
    "# alternatively \n",
    "def letter_counter(file_name, letters_to_count='aeiou'):\n",
    "    '''Returns the number of times specified letters appear in a file'''\n",
    "    text = read_file(file_name)\n",
    "\n",
    "    letter_frequency = {}\n",
    "    for letter in list(text[0]):\n",
    "        letter_frequency[letter.lower()] = letter_frequency.get(letter, 0) + 1        \n",
    "    return letter_frequency\n",
    "    \n",
    "print(letter_counter('lorem_ipsum.txt'))"
   ]
  },
  {
   "cell_type": "markdown",
   "metadata": {},
   "source": [
    "**Challenge 2**  \n",
    "Write a function that removes one occurence of a given item from a list. Do not use methods `.pop()` or `.remove()`! If the item is not present in the list, output should be `The item is not in the list`."
   ]
  },
  {
   "cell_type": "code",
   "execution_count": 8,
   "metadata": {},
   "outputs": [
    {
     "name": "stdout",
     "output_type": "stream",
     "text": [
      "[1, 7, 8, 0, 7]\n",
      "The item is not in the list\n"
     ]
    }
   ],
   "source": [
    "def remove_item(list_items, item_to_remove):\n",
    "    '''Remove first occurence of item from list'''\n",
    "    return list_items[0:list_items.index(item_to_remove)] + list_items[list_items.index(item_to_remove)+1:] \\\n",
    "    if item_to_remove in list_items else 'The item is not in the list'\n",
    "\n",
    "print(remove_item([1,3,7,8,0,7], 3))\n",
    "print(remove_item([1,3,7,8,0,7], 2))"
   ]
  },
  {
   "cell_type": "markdown",
   "metadata": {},
   "source": [
    "**Challenge 3**"
   ]
  },
  {
   "cell_type": "markdown",
   "metadata": {},
   "source": [
    "The simple substitution cipher basically consists of substituting every plaintext character for a different ciphertext character. The following is an example of one possible cipher from http://practicalcryptography.com/ciphers/simple-substitution-cipher/:\n",
    "\n",
    "* Plain alphabet : abcdefghijklmnopqrstuvwxyz\n",
    "* Cipher alphabet: phqgiumeaylnofdxjkrcvstzwb"
   ]
  },
  {
   "cell_type": "code",
   "execution_count": 9,
   "metadata": {},
   "outputs": [
    {
     "name": "stdout",
     "output_type": "stream",
     "text": [
      "giuifg cei iprc tpnn du cei qprcni\n",
      "defend the east wall of the castle\n"
     ]
    }
   ],
   "source": [
    "def cipher(text, cipher_alphabet, option='encipher'):\n",
    "    '''\n",
    "    It has been assumed the option argument is always 'decipher' or 'encipher' \n",
    "    That is because the program uses 'decipher' if any argument different than 'encipher' is passed \n",
    "    '''\n",
    "    try:\n",
    "        return ''.join([cipher_alphabet[letter.lower()] for letter in list(text)]) \\\n",
    "        if option == 'encipher' else \\\n",
    "        ''.join([key for letter in list(text) for key, value in cipher_alphabet.items() if letter.lower() == value])\n",
    "    except:\n",
    "        return \"Please enter valid input (only a-z, A-Z and spaces allowed)\"\n",
    "\n",
    "# create cipher alphabet; note the additional space after the z / b\n",
    "cipher_alphabet = dict(zip('abcdefghijklmnopqrstuvwxyz ', 'phqgiumeaylnofdxjkrcvstzwb '))\n",
    "\n",
    "print(cipher('defend the east wall of the castle', cipher_alphabet))\n",
    "print(cipher('giuifg cei iprc tpnn du cei qprcni', cipher_alphabet, 'decipher')) "
   ]
  },
  {
   "cell_type": "markdown",
   "metadata": {},
   "source": [
    "**Challenge 4**  \n",
    "Implement a function that counts the number of isograms in a list of strings.\n",
    "\n",
    "* An isogram is a word that has no repeating letters, consecutive or non-consecutive.\n",
    "* Assume the empty string is an isogram and that the function should be case insensitive."
   ]
  },
  {
   "cell_type": "code",
   "execution_count": 10,
   "metadata": {},
   "outputs": [
    {
     "data": {
      "text/plain": [
       "1"
      ]
     },
     "execution_count": 10,
     "metadata": {},
     "output_type": "execute_result"
    }
   ],
   "source": [
    "def count_isograms(list_of_words):\n",
    "    '''Count the number of strings without repeating characters in a list.\n",
    "       A word is an isogram if all letters occur exactly 1 time.\n",
    "    '''\n",
    "    num_isograms = 0\n",
    "    \n",
    "    for word in list_of_words:\n",
    "        # convert to upper() to account for case insensitivity\n",
    "        if all(word.upper().count(letter.upper()) == 1 for letter in word):\n",
    "            num_isograms += 1 \n",
    "            \n",
    "    return num_isograms\n",
    "\n",
    "\n",
    "print(count_isograms(['conduct', 'letter', 'contract', 'hours', 'interview', 'Conduct']))"
   ]
  },
  {
   "cell_type": "markdown",
   "metadata": {},
   "source": [
    "**Challenge 5**  \n",
    "Write a function that returns a list of matching items. Items are defined by a tuple with a letter and a number and we consider item 1 to match item 2 if:\n",
    "\n",
    "1. Both their letters are vowels (aeiou), or both are consonants and,\n",
    "2. The sum of their numbers is a multiple of 3"
   ]
  },
  {
   "cell_type": "code",
   "execution_count": 11,
   "metadata": {},
   "outputs": [
    {
     "data": {
      "text/plain": [
       "[(0, 4), (1, 2), (3, 5)]"
      ]
     },
     "execution_count": 11,
     "metadata": {},
     "output_type": "execute_result"
    }
   ],
   "source": [
    "def matching_pairs(data_list):\n",
    "    pairs = []\n",
    "    for index1, pair1 in enumerate(data_list): \n",
    "        for index2, pair2 in enumerate(data_list):\n",
    "            \n",
    "            if (((pair1[1] + pair2[1]) % 3 == 0) and # the sum of the number is a multiple of 3 \n",
    "                index1 != index2 and # it must be different pairs (so not two times the same item)\n",
    "                ((pair1[0] in 'aeiou' and pair2[0] in 'aeiou') or # only vowel-vowel combination\n",
    "                (pair1[0] not in 'aeiou' and pair2[0] not in 'aeiou')) and # only consonant-consonant combination\n",
    "                (index2, index1) not in pairs): # because (A,B) is the same as (B,A)\n",
    "                    pairs.append((index1, index2))\n",
    "                \n",
    "    return pairs\n",
    " \n",
    "print(matching_pairs([('a', 4), ('b', 5), ('c', 1), ('d', 3), ('e', 2), ('f', 6)]))"
   ]
  }
 ],
 "metadata": {
  "kernelspec": {
   "display_name": "Python 3",
   "language": "python",
   "name": "python3"
  },
  "language_info": {
   "codemirror_mode": {
    "name": "ipython",
    "version": 3
   },
   "file_extension": ".py",
   "mimetype": "text/x-python",
   "name": "python",
   "nbconvert_exporter": "python",
   "pygments_lexer": "ipython3",
   "version": "3.6.0"
  }
 },
 "nbformat": 4,
 "nbformat_minor": 2
}
